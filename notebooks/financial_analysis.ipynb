{
 "cells": [
  {
   "cell_type": "markdown",
   "metadata": {},
   "source": [
    "# Import all the necessary libraries"
   ]
  },
  {
   "cell_type": "code",
   "execution_count": 1,
   "metadata": {},
   "outputs": [],
   "source": [
    "import pandas as pd\n",
    "import glob"
   ]
  },
  {
   "cell_type": "markdown",
   "metadata": {},
   "source": [
    "# Merge all cleaned csv files into a single csv file"
   ]
  },
  {
   "cell_type": "code",
   "execution_count": 2,
   "metadata": {},
   "outputs": [
    {
     "name": "stdout",
     "output_type": "stream",
     "text": [
      "All stock data has been successfully merged into all_stock_data.csv\n"
     ]
    }
   ],
   "source": [
    "# Specify the path to your stock CSV files\n",
    "stock_files_path = '../data/cleaned_stock_data/*.csv'\n",
    "\n",
    "# Use glob to find all the CSV files in the specified directory\n",
    "stock_files = glob.glob(stock_files_path)\n",
    "\n",
    "# Read each CSV file and store the DataFrames in a list\n",
    "stock_dfs = [pd.read_csv(file) for file in stock_files]\n",
    "\n",
    "# Concatenate all DataFrames into one\n",
    "combined_stock_df = pd.concat(stock_dfs, ignore_index=True)\n",
    "\n",
    "# Save the combined DataFrame to a new CSV file\n",
    "combined_stock_df.to_csv('all_stock_data.csv', index=False)\n",
    "\n",
    "print(\"All stock data has been successfully merged into all_stock_data.csv\")"
   ]
  }
 ],
 "metadata": {
  "kernelspec": {
   "display_name": "venv",
   "language": "python",
   "name": "python3"
  },
  "language_info": {
   "codemirror_mode": {
    "name": "ipython",
    "version": 3
   },
   "file_extension": ".py",
   "mimetype": "text/x-python",
   "name": "python",
   "nbconvert_exporter": "python",
   "pygments_lexer": "ipython3",
   "version": "3.12.3"
  }
 },
 "nbformat": 4,
 "nbformat_minor": 2
}
